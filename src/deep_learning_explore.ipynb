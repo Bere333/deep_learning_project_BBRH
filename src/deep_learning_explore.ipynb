{
    "cells": [
        {
            "cell_type": "markdown",
            "metadata": {},
            "source": [
                "# Deep Learning Explore. "
            ]
        },
        {
            "cell_type": "code",
            "execution_count": 1,
            "metadata": {},
            "outputs": [
                {
                    "name": "stdout",
                    "output_type": "stream",
                    "text": [
                        "2.19.0\n"
                    ]
                }
            ],
            "source": [
                "import tensorflow as tf\n",
                "print(tf.__version__)\n"
            ]
        },
        {
            "cell_type": "code",
            "execution_count": 2,
            "metadata": {},
            "outputs": [],
            "source": [
                "import pandas as pd\n",
                "from sklearn.model_selection import train_test_split\n",
                "from tensorflow.keras.preprocessing.image import ImageDataGenerator\n"
            ]
        },
        {
            "cell_type": "markdown",
            "metadata": {},
            "source": [
                "### Crear generadores de datos. "
            ]
        },
        {
            "cell_type": "code",
            "execution_count": 3,
            "metadata": {},
            "outputs": [
                {
                    "name": "stdout",
                    "output_type": "stream",
                    "text": [
                        "Estructura de carpetas creada exitosamente.\n",
                        "\n",
                        "Total de imágenes encontradas: 25000\n",
                        "Imágenes para entrenamiento: 20000\n",
                        "Imágenes para validación: 5000\n",
                        "\n",
                        "Moviendo archivos de entrenamiento...\n",
                        "Moviendo archivos de validación...\n",
                        "\n",
                        "¡Organización de archivos completa!\n"
                    ]
                }
            ],
            "source": [
                "import os\n",
                "import shutil\n",
                "import random\n",
                "\n",
                "# Directorio donde están tus imágenes originales\n",
                "original_data_dir = \"../data/raw/train\" \n",
                "\n",
                "# Directorio de destino para la nueva estructura\n",
                "base_dir = \"../data/raw/dataset\"\n",
                "\n",
                "# Porcentaje de imágenes para el conjunto de validación\n",
                "validation_split = 0.2\n",
                "\n",
                "# Crear la estructura de carpetas\n",
                "try:\n",
                "    os.makedirs(os.path.join(base_dir, 'train', 'cat'))\n",
                "    os.makedirs(os.path.join(base_dir, 'train', 'dog'))\n",
                "    os.makedirs(os.path.join(base_dir, 'validation', 'cat'))\n",
                "    os.makedirs(os.path.join(base_dir, 'validation', 'dog'))\n",
                "    print(\"Estructura de carpetas creada exitosamente.\")\n",
                "except FileExistsError:\n",
                "    print(\"La estructura de carpetas ya existe. Continuando...\")\n",
                "\n",
                "# Obtener la lista de todos los archivos de imágenes\n",
                "file_names = os.listdir(original_data_dir)\n",
                "random.shuffle(file_names) # Mezclar la lista para una división aleatoria\n",
                "\n",
                "# Dividir los archivos en conjuntos de entrenamiento y validación\n",
                "split_index = int(len(file_names) * (1 - validation_split))\n",
                "train_files = file_names[:split_index]\n",
                "validation_files = file_names[split_index:]\n",
                "\n",
                "print(f\"\\nTotal de imágenes encontradas: {len(file_names)}\")\n",
                "print(f\"Imágenes para entrenamiento: {len(train_files)}\")\n",
                "print(f\"Imágenes para validación: {len(validation_files)}\")\n",
                "\n",
                "# Mover archivos al directorio de entrenamiento\n",
                "print(\"\\nMoviendo archivos de entrenamiento...\")\n",
                "for file_name in train_files:\n",
                "    if file_name.startswith('cat'):\n",
                "        shutil.copy(os.path.join(original_data_dir, file_name), os.path.join(base_dir, 'train', 'cat', file_name))\n",
                "    elif file_name.startswith('dog'):\n",
                "        shutil.copy(os.path.join(original_data_dir, file_name), os.path.join(base_dir, 'train', 'dog', file_name))\n",
                "\n",
                "# Mover archivos al directorio de validación\n",
                "print(\"Moviendo archivos de validación...\")\n",
                "for file_name in validation_files:\n",
                "    if file_name.startswith('cat'):\n",
                "        shutil.copy(os.path.join(original_data_dir, file_name), os.path.join(base_dir, 'validation', 'cat', file_name))\n",
                "    elif file_name.startswith('dog'):\n",
                "        shutil.copy(os.path.join(original_data_dir, file_name), os.path.join(base_dir, 'validation', 'dog', file_name))\n",
                "\n",
                "print(\"\\n¡Organización de archivos completa!\")"
            ]
        },
        {
            "cell_type": "code",
            "execution_count": 4,
            "metadata": {},
            "outputs": [
                {
                    "name": "stdout",
                    "output_type": "stream",
                    "text": [
                        "Found 20000 images belonging to 2 classes.\n",
                        "Found 5000 images belonging to 2 classes.\n",
                        "\n",
                        "Clases detectadas por el generador de entrenamiento:\n",
                        "{'cat': 0, 'dog': 1}\n"
                    ]
                }
            ],
            "source": [
                "# Definir las rutas de las carpetas\n",
                "train_dir = '../data/raw/dataset/train'\n",
                "validation_dir = '../data/raw/dataset/validation'\n",
                "\n",
                "# Definir los parámetros para el preprocesamiento de imágenes\n",
                "IMG_WIDTH = 200\n",
                "IMG_HEIGHT = 200\n",
                "BATCH_SIZE = 32\n",
                "\n",
                "# Crear el objeto ImageDataGenerator para los datos de entrenamiento\n",
                "# trdata (entrenamiento) con aumento de datos\n",
                "trdata = ImageDataGenerator(\n",
                "    rescale=1./255,           # Normalizar los valores de píxel\n",
                "    rotation_range=40,        # Aumento de datos para el entrenamiento\n",
                "    width_shift_range=0.2,\n",
                "    height_shift_range=0.2,\n",
                "    shear_range=0.2,\n",
                "    zoom_range=0.2,\n",
                "    horizontal_flip=True,\n",
                "    fill_mode='nearest'\n",
                ")\n",
                "\n",
                "# Crear el objeto ImageDataGenerator para los datos de validación/prueba\n",
                "# tsdata (validación), solo escalado\n",
                "tsdata = ImageDataGenerator(rescale=1./255)\n",
                "\n",
                "# Pasa la carpeta de entrenamiento al objeto trdata\n",
                "# El generador de entrenamiento etiquetará automáticamente las imágenes\n",
                "train_generator = trdata.flow_from_directory(\n",
                "    train_dir,\n",
                "    target_size=(IMG_WIDTH, IMG_HEIGHT),  # Redimensionar a 200x200\n",
                "    batch_size=BATCH_SIZE,\n",
                "    class_mode='binary'                   # 'binary' para dos clases (gato, perro)\n",
                ")\n",
                "\n",
                "# Pasa la carpeta de validación al objeto tsdata\n",
                "# El generador de validación etiquetará las imágenes de prueba\n",
                "validation_generator = tsdata.flow_from_directory(\n",
                "    validation_dir,\n",
                "    target_size=(IMG_WIDTH, IMG_HEIGHT),\n",
                "    batch_size=BATCH_SIZE,\n",
                "    class_mode='binary'\n",
                ")\n",
                "\n",
                "# Opcional: Imprimir las clases detectadas para verificar que todo esté bien\n",
                "print(\"\\nClases detectadas por el generador de entrenamiento:\")\n",
                "print(train_generator.class_indices)"
            ]
        }
    ],
    "metadata": {
        "kernelspec": {
            "display_name": "mi_entorno",
            "language": "python",
            "name": "python3"
        },
        "language_info": {
            "codemirror_mode": {
                "name": "ipython",
                "version": 3
            },
            "file_extension": ".py",
            "mimetype": "text/x-python",
            "name": "python",
            "nbconvert_exporter": "python",
            "pygments_lexer": "ipython3",
            "version": "3.11.13"
        },
        "orig_nbformat": 4
    },
    "nbformat": 4,
    "nbformat_minor": 2
}
