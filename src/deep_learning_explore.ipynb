{
    "cells": [
        {
            "cell_type": "markdown",
            "metadata": {},
            "source": [
                "# Deep Learning Explore. "
            ]
        },
        {
            "cell_type": "code",
            "execution_count": 1,
            "metadata": {},
            "outputs": [
                {
                    "name": "stdout",
                    "output_type": "stream",
                    "text": [
                        "2.19.0\n"
                    ]
                }
            ],
            "source": [
                "import tensorflow as tf\n",
                "print(tf.__version__)\n"
            ]
        },
        {
            "cell_type": "code",
            "execution_count": 2,
            "metadata": {},
            "outputs": [],
            "source": [
                "import pandas as pd\n",
                "from sklearn.model_selection import train_test_split\n",
                "from tensorflow.keras.preprocessing.image import ImageDataGenerator\n"
            ]
        },
        {
            "cell_type": "markdown",
            "metadata": {},
            "source": [
                "### Crear generadores de datos. "
            ]
        },
        {
            "cell_type": "code",
            "execution_count": 3,
            "metadata": {},
            "outputs": [
                {
                    "name": "stdout",
                    "output_type": "stream",
                    "text": [
                        "Estructura de carpetas creada exitosamente.\n",
                        "\n",
                        "Total de imágenes encontradas: 25000\n",
                        "Imágenes para entrenamiento: 20000\n",
                        "Imágenes para validación: 5000\n",
                        "\n",
                        "Moviendo archivos de entrenamiento...\n",
                        "Moviendo archivos de validación...\n",
                        "\n",
                        "¡Organización de archivos completa!\n"
                    ]
                }
            ],
            "source": [
                "import os\n",
                "import shutil\n",
                "import random\n",
                "\n",
                "# Directorio donde están tus imágenes originales\n",
                "original_data_dir = \"../data/raw/train\" \n",
                "\n",
                "# Directorio de destino para la nueva estructura\n",
                "base_dir = \"../data/raw/dataset\"\n",
                "\n",
                "# Porcentaje de imágenes para el conjunto de validación\n",
                "validation_split = 0.2\n",
                "\n",
                "# Crear la estructura de carpetas\n",
                "try:\n",
                "    os.makedirs(os.path.join(base_dir, 'train', 'cat'))\n",
                "    os.makedirs(os.path.join(base_dir, 'train', 'dog'))\n",
                "    os.makedirs(os.path.join(base_dir, 'validation', 'cat'))\n",
                "    os.makedirs(os.path.join(base_dir, 'validation', 'dog'))\n",
                "    print(\"Estructura de carpetas creada exitosamente.\")\n",
                "except FileExistsError:\n",
                "    print(\"La estructura de carpetas ya existe. Continuando...\")\n",
                "\n",
                "# Obtener la lista de todos los archivos de imágenes\n",
                "file_names = os.listdir(original_data_dir)\n",
                "random.shuffle(file_names) # Mezclar la lista para una división aleatoria\n",
                "\n",
                "# Dividir los archivos en conjuntos de entrenamiento y validación\n",
                "split_index = int(len(file_names) * (1 - validation_split))\n",
                "train_files = file_names[:split_index]\n",
                "validation_files = file_names[split_index:]\n",
                "\n",
                "print(f\"\\nTotal de imágenes encontradas: {len(file_names)}\")\n",
                "print(f\"Imágenes para entrenamiento: {len(train_files)}\")\n",
                "print(f\"Imágenes para validación: {len(validation_files)}\")\n",
                "\n",
                "# Mover archivos al directorio de entrenamiento\n",
                "print(\"\\nMoviendo archivos de entrenamiento...\")\n",
                "for file_name in train_files:\n",
                "    if file_name.startswith('cat'):\n",
                "        shutil.copy(os.path.join(original_data_dir, file_name), os.path.join(base_dir, 'train', 'cat', file_name))\n",
                "    elif file_name.startswith('dog'):\n",
                "        shutil.copy(os.path.join(original_data_dir, file_name), os.path.join(base_dir, 'train', 'dog', file_name))\n",
                "\n",
                "# Mover archivos al directorio de validación\n",
                "print(\"Moviendo archivos de validación...\")\n",
                "for file_name in validation_files:\n",
                "    if file_name.startswith('cat'):\n",
                "        shutil.copy(os.path.join(original_data_dir, file_name), os.path.join(base_dir, 'validation', 'cat', file_name))\n",
                "    elif file_name.startswith('dog'):\n",
                "        shutil.copy(os.path.join(original_data_dir, file_name), os.path.join(base_dir, 'validation', 'dog', file_name))\n",
                "\n",
                "print(\"\\n¡Organización de archivos completa!\")"
            ]
        },
        {
            "cell_type": "code",
            "execution_count": 4,
            "metadata": {},
            "outputs": [
                {
                    "name": "stdout",
                    "output_type": "stream",
                    "text": [
                        "Found 20000 images belonging to 2 classes.\n",
                        "Found 5000 images belonging to 2 classes.\n",
                        "\n",
                        "Clases detectadas por el generador de entrenamiento:\n",
                        "{'cat': 0, 'dog': 1}\n"
                    ]
                }
            ],
            "source": [
                "# Definir las rutas de las carpetas\n",
                "train_dir = '../data/raw/dataset/train'\n",
                "validation_dir = '../data/raw/dataset/validation'\n",
                "\n",
                "# Definir los parámetros para el preprocesamiento de imágenes\n",
                "IMG_WIDTH = 200\n",
                "IMG_HEIGHT = 200\n",
                "BATCH_SIZE = 32\n",
                "\n",
                "# Crear el objeto ImageDataGenerator para los datos de entrenamiento\n",
                "# trdata (entrenamiento) con aumento de datos\n",
                "trdata = ImageDataGenerator(\n",
                "    rescale=1./255,           # Normalizar los valores de píxel\n",
                "    rotation_range=40,        # Aumento de datos para el entrenamiento\n",
                "    width_shift_range=0.2,\n",
                "    height_shift_range=0.2,\n",
                "    shear_range=0.2,\n",
                "    zoom_range=0.2,\n",
                "    horizontal_flip=True,\n",
                "    fill_mode='nearest'\n",
                ")\n",
                "\n",
                "# Crear el objeto ImageDataGenerator para los datos de validación/prueba\n",
                "# tsdata (validación), solo escalado\n",
                "tsdata = ImageDataGenerator(rescale=1./255)\n",
                "\n",
                "# Pasa la carpeta de entrenamiento al objeto trdata\n",
                "# El generador de entrenamiento etiquetará automáticamente las imágenes\n",
                "train_generator = trdata.flow_from_directory(\n",
                "    train_dir,\n",
                "    target_size=(IMG_WIDTH, IMG_HEIGHT),  # Redimensionar a 200x200\n",
                "    batch_size=BATCH_SIZE,\n",
                "    class_mode='binary'                   # 'binary' para dos clases (gato, perro)\n",
                ")\n",
                "\n",
                "# Pasa la carpeta de validación al objeto tsdata\n",
                "# El generador de validación etiquetará las imágenes de prueba\n",
                "validation_generator = tsdata.flow_from_directory(\n",
                "    validation_dir,\n",
                "    target_size=(IMG_WIDTH, IMG_HEIGHT),\n",
                "    batch_size=BATCH_SIZE,\n",
                "    class_mode='binary'\n",
                ")\n",
                "\n",
                "# Opcional: Imprimir las clases detectadas para verificar que todo esté bien\n",
                "print(\"\\nClases detectadas por el generador de entrenamiento:\")\n",
                "print(train_generator.class_indices)"
            ]
        },
        {
            "cell_type": "markdown",
            "metadata": {},
            "source": [
                "# 2. Entrenar modelo. "
            ]
        },
        {
            "cell_type": "code",
            "execution_count": 5,
            "metadata": {},
            "outputs": [
                {
                    "name": "stderr",
                    "output_type": "stream",
                    "text": [
                        "/Users/bereniceramos/Documents/Personal/4Geeks/Deep Learning/deep_learning_project_BBRH/mi_entorno/lib/python3.11/site-packages/keras/src/layers/convolutional/base_conv.py:113: UserWarning: Do not pass an `input_shape`/`input_dim` argument to a layer. When using Sequential models, prefer using an `Input(shape)` object as the first layer in the model instead.\n",
                        "  super().__init__(activity_regularizer=activity_regularizer, **kwargs)\n"
                    ]
                },
                {
                    "data": {
                        "text/html": [
                            "<pre style=\"white-space:pre;overflow-x:auto;line-height:normal;font-family:Menlo,'DejaVu Sans Mono',consolas,'Courier New',monospace\"><span style=\"font-weight: bold\">Model: \"sequential\"</span>\n",
                            "</pre>\n"
                        ],
                        "text/plain": [
                            "\u001b[1mModel: \"sequential\"\u001b[0m\n"
                        ]
                    },
                    "metadata": {},
                    "output_type": "display_data"
                },
                {
                    "data": {
                        "text/html": [
                            "<pre style=\"white-space:pre;overflow-x:auto;line-height:normal;font-family:Menlo,'DejaVu Sans Mono',consolas,'Courier New',monospace\">┏━━━━━━━━━━━━━━━━━━━━━━━━━━━━━━━━━┳━━━━━━━━━━━━━━━━━━━━━━━━┳━━━━━━━━━━━━━━━┓\n",
                            "┃<span style=\"font-weight: bold\"> Layer (type)                    </span>┃<span style=\"font-weight: bold\"> Output Shape           </span>┃<span style=\"font-weight: bold\">       Param # </span>┃\n",
                            "┡━━━━━━━━━━━━━━━━━━━━━━━━━━━━━━━━━╇━━━━━━━━━━━━━━━━━━━━━━━━╇━━━━━━━━━━━━━━━┩\n",
                            "│ conv2d (<span style=\"color: #0087ff; text-decoration-color: #0087ff\">Conv2D</span>)                 │ (<span style=\"color: #00d7ff; text-decoration-color: #00d7ff\">None</span>, <span style=\"color: #00af00; text-decoration-color: #00af00\">198</span>, <span style=\"color: #00af00; text-decoration-color: #00af00\">198</span>, <span style=\"color: #00af00; text-decoration-color: #00af00\">32</span>)   │           <span style=\"color: #00af00; text-decoration-color: #00af00\">896</span> │\n",
                            "├─────────────────────────────────┼────────────────────────┼───────────────┤\n",
                            "│ max_pooling2d (<span style=\"color: #0087ff; text-decoration-color: #0087ff\">MaxPooling2D</span>)    │ (<span style=\"color: #00d7ff; text-decoration-color: #00d7ff\">None</span>, <span style=\"color: #00af00; text-decoration-color: #00af00\">99</span>, <span style=\"color: #00af00; text-decoration-color: #00af00\">99</span>, <span style=\"color: #00af00; text-decoration-color: #00af00\">32</span>)     │             <span style=\"color: #00af00; text-decoration-color: #00af00\">0</span> │\n",
                            "├─────────────────────────────────┼────────────────────────┼───────────────┤\n",
                            "│ conv2d_1 (<span style=\"color: #0087ff; text-decoration-color: #0087ff\">Conv2D</span>)               │ (<span style=\"color: #00d7ff; text-decoration-color: #00d7ff\">None</span>, <span style=\"color: #00af00; text-decoration-color: #00af00\">97</span>, <span style=\"color: #00af00; text-decoration-color: #00af00\">97</span>, <span style=\"color: #00af00; text-decoration-color: #00af00\">64</span>)     │        <span style=\"color: #00af00; text-decoration-color: #00af00\">18,496</span> │\n",
                            "├─────────────────────────────────┼────────────────────────┼───────────────┤\n",
                            "│ max_pooling2d_1 (<span style=\"color: #0087ff; text-decoration-color: #0087ff\">MaxPooling2D</span>)  │ (<span style=\"color: #00d7ff; text-decoration-color: #00d7ff\">None</span>, <span style=\"color: #00af00; text-decoration-color: #00af00\">48</span>, <span style=\"color: #00af00; text-decoration-color: #00af00\">48</span>, <span style=\"color: #00af00; text-decoration-color: #00af00\">64</span>)     │             <span style=\"color: #00af00; text-decoration-color: #00af00\">0</span> │\n",
                            "├─────────────────────────────────┼────────────────────────┼───────────────┤\n",
                            "│ conv2d_2 (<span style=\"color: #0087ff; text-decoration-color: #0087ff\">Conv2D</span>)               │ (<span style=\"color: #00d7ff; text-decoration-color: #00d7ff\">None</span>, <span style=\"color: #00af00; text-decoration-color: #00af00\">46</span>, <span style=\"color: #00af00; text-decoration-color: #00af00\">46</span>, <span style=\"color: #00af00; text-decoration-color: #00af00\">128</span>)    │        <span style=\"color: #00af00; text-decoration-color: #00af00\">73,856</span> │\n",
                            "├─────────────────────────────────┼────────────────────────┼───────────────┤\n",
                            "│ max_pooling2d_2 (<span style=\"color: #0087ff; text-decoration-color: #0087ff\">MaxPooling2D</span>)  │ (<span style=\"color: #00d7ff; text-decoration-color: #00d7ff\">None</span>, <span style=\"color: #00af00; text-decoration-color: #00af00\">23</span>, <span style=\"color: #00af00; text-decoration-color: #00af00\">23</span>, <span style=\"color: #00af00; text-decoration-color: #00af00\">128</span>)    │             <span style=\"color: #00af00; text-decoration-color: #00af00\">0</span> │\n",
                            "├─────────────────────────────────┼────────────────────────┼───────────────┤\n",
                            "│ flatten (<span style=\"color: #0087ff; text-decoration-color: #0087ff\">Flatten</span>)               │ (<span style=\"color: #00d7ff; text-decoration-color: #00d7ff\">None</span>, <span style=\"color: #00af00; text-decoration-color: #00af00\">67712</span>)          │             <span style=\"color: #00af00; text-decoration-color: #00af00\">0</span> │\n",
                            "├─────────────────────────────────┼────────────────────────┼───────────────┤\n",
                            "│ dense (<span style=\"color: #0087ff; text-decoration-color: #0087ff\">Dense</span>)                   │ (<span style=\"color: #00d7ff; text-decoration-color: #00d7ff\">None</span>, <span style=\"color: #00af00; text-decoration-color: #00af00\">512</span>)            │    <span style=\"color: #00af00; text-decoration-color: #00af00\">34,669,056</span> │\n",
                            "├─────────────────────────────────┼────────────────────────┼───────────────┤\n",
                            "│ dropout (<span style=\"color: #0087ff; text-decoration-color: #0087ff\">Dropout</span>)               │ (<span style=\"color: #00d7ff; text-decoration-color: #00d7ff\">None</span>, <span style=\"color: #00af00; text-decoration-color: #00af00\">512</span>)            │             <span style=\"color: #00af00; text-decoration-color: #00af00\">0</span> │\n",
                            "├─────────────────────────────────┼────────────────────────┼───────────────┤\n",
                            "│ dense_1 (<span style=\"color: #0087ff; text-decoration-color: #0087ff\">Dense</span>)                 │ (<span style=\"color: #00d7ff; text-decoration-color: #00d7ff\">None</span>, <span style=\"color: #00af00; text-decoration-color: #00af00\">1</span>)              │           <span style=\"color: #00af00; text-decoration-color: #00af00\">513</span> │\n",
                            "└─────────────────────────────────┴────────────────────────┴───────────────┘\n",
                            "</pre>\n"
                        ],
                        "text/plain": [
                            "┏━━━━━━━━━━━━━━━━━━━━━━━━━━━━━━━━━┳━━━━━━━━━━━━━━━━━━━━━━━━┳━━━━━━━━━━━━━━━┓\n",
                            "┃\u001b[1m \u001b[0m\u001b[1mLayer (type)                   \u001b[0m\u001b[1m \u001b[0m┃\u001b[1m \u001b[0m\u001b[1mOutput Shape          \u001b[0m\u001b[1m \u001b[0m┃\u001b[1m \u001b[0m\u001b[1m      Param #\u001b[0m\u001b[1m \u001b[0m┃\n",
                            "┡━━━━━━━━━━━━━━━━━━━━━━━━━━━━━━━━━╇━━━━━━━━━━━━━━━━━━━━━━━━╇━━━━━━━━━━━━━━━┩\n",
                            "│ conv2d (\u001b[38;5;33mConv2D\u001b[0m)                 │ (\u001b[38;5;45mNone\u001b[0m, \u001b[38;5;34m198\u001b[0m, \u001b[38;5;34m198\u001b[0m, \u001b[38;5;34m32\u001b[0m)   │           \u001b[38;5;34m896\u001b[0m │\n",
                            "├─────────────────────────────────┼────────────────────────┼───────────────┤\n",
                            "│ max_pooling2d (\u001b[38;5;33mMaxPooling2D\u001b[0m)    │ (\u001b[38;5;45mNone\u001b[0m, \u001b[38;5;34m99\u001b[0m, \u001b[38;5;34m99\u001b[0m, \u001b[38;5;34m32\u001b[0m)     │             \u001b[38;5;34m0\u001b[0m │\n",
                            "├─────────────────────────────────┼────────────────────────┼───────────────┤\n",
                            "│ conv2d_1 (\u001b[38;5;33mConv2D\u001b[0m)               │ (\u001b[38;5;45mNone\u001b[0m, \u001b[38;5;34m97\u001b[0m, \u001b[38;5;34m97\u001b[0m, \u001b[38;5;34m64\u001b[0m)     │        \u001b[38;5;34m18,496\u001b[0m │\n",
                            "├─────────────────────────────────┼────────────────────────┼───────────────┤\n",
                            "│ max_pooling2d_1 (\u001b[38;5;33mMaxPooling2D\u001b[0m)  │ (\u001b[38;5;45mNone\u001b[0m, \u001b[38;5;34m48\u001b[0m, \u001b[38;5;34m48\u001b[0m, \u001b[38;5;34m64\u001b[0m)     │             \u001b[38;5;34m0\u001b[0m │\n",
                            "├─────────────────────────────────┼────────────────────────┼───────────────┤\n",
                            "│ conv2d_2 (\u001b[38;5;33mConv2D\u001b[0m)               │ (\u001b[38;5;45mNone\u001b[0m, \u001b[38;5;34m46\u001b[0m, \u001b[38;5;34m46\u001b[0m, \u001b[38;5;34m128\u001b[0m)    │        \u001b[38;5;34m73,856\u001b[0m │\n",
                            "├─────────────────────────────────┼────────────────────────┼───────────────┤\n",
                            "│ max_pooling2d_2 (\u001b[38;5;33mMaxPooling2D\u001b[0m)  │ (\u001b[38;5;45mNone\u001b[0m, \u001b[38;5;34m23\u001b[0m, \u001b[38;5;34m23\u001b[0m, \u001b[38;5;34m128\u001b[0m)    │             \u001b[38;5;34m0\u001b[0m │\n",
                            "├─────────────────────────────────┼────────────────────────┼───────────────┤\n",
                            "│ flatten (\u001b[38;5;33mFlatten\u001b[0m)               │ (\u001b[38;5;45mNone\u001b[0m, \u001b[38;5;34m67712\u001b[0m)          │             \u001b[38;5;34m0\u001b[0m │\n",
                            "├─────────────────────────────────┼────────────────────────┼───────────────┤\n",
                            "│ dense (\u001b[38;5;33mDense\u001b[0m)                   │ (\u001b[38;5;45mNone\u001b[0m, \u001b[38;5;34m512\u001b[0m)            │    \u001b[38;5;34m34,669,056\u001b[0m │\n",
                            "├─────────────────────────────────┼────────────────────────┼───────────────┤\n",
                            "│ dropout (\u001b[38;5;33mDropout\u001b[0m)               │ (\u001b[38;5;45mNone\u001b[0m, \u001b[38;5;34m512\u001b[0m)            │             \u001b[38;5;34m0\u001b[0m │\n",
                            "├─────────────────────────────────┼────────────────────────┼───────────────┤\n",
                            "│ dense_1 (\u001b[38;5;33mDense\u001b[0m)                 │ (\u001b[38;5;45mNone\u001b[0m, \u001b[38;5;34m1\u001b[0m)              │           \u001b[38;5;34m513\u001b[0m │\n",
                            "└─────────────────────────────────┴────────────────────────┴───────────────┘\n"
                        ]
                    },
                    "metadata": {},
                    "output_type": "display_data"
                },
                {
                    "data": {
                        "text/html": [
                            "<pre style=\"white-space:pre;overflow-x:auto;line-height:normal;font-family:Menlo,'DejaVu Sans Mono',consolas,'Courier New',monospace\"><span style=\"font-weight: bold\"> Total params: </span><span style=\"color: #00af00; text-decoration-color: #00af00\">34,762,817</span> (132.61 MB)\n",
                            "</pre>\n"
                        ],
                        "text/plain": [
                            "\u001b[1m Total params: \u001b[0m\u001b[38;5;34m34,762,817\u001b[0m (132.61 MB)\n"
                        ]
                    },
                    "metadata": {},
                    "output_type": "display_data"
                },
                {
                    "data": {
                        "text/html": [
                            "<pre style=\"white-space:pre;overflow-x:auto;line-height:normal;font-family:Menlo,'DejaVu Sans Mono',consolas,'Courier New',monospace\"><span style=\"font-weight: bold\"> Trainable params: </span><span style=\"color: #00af00; text-decoration-color: #00af00\">34,762,817</span> (132.61 MB)\n",
                            "</pre>\n"
                        ],
                        "text/plain": [
                            "\u001b[1m Trainable params: \u001b[0m\u001b[38;5;34m34,762,817\u001b[0m (132.61 MB)\n"
                        ]
                    },
                    "metadata": {},
                    "output_type": "display_data"
                },
                {
                    "data": {
                        "text/html": [
                            "<pre style=\"white-space:pre;overflow-x:auto;line-height:normal;font-family:Menlo,'DejaVu Sans Mono',consolas,'Courier New',monospace\"><span style=\"font-weight: bold\"> Non-trainable params: </span><span style=\"color: #00af00; text-decoration-color: #00af00\">0</span> (0.00 B)\n",
                            "</pre>\n"
                        ],
                        "text/plain": [
                            "\u001b[1m Non-trainable params: \u001b[0m\u001b[38;5;34m0\u001b[0m (0.00 B)\n"
                        ]
                    },
                    "metadata": {},
                    "output_type": "display_data"
                }
            ],
            "source": [
                "from tensorflow.keras.models import Sequential\n",
                "from tensorflow.keras.layers import Conv2D, MaxPooling2D, Flatten, Dense, Dropout\n",
                "\n",
                "# Crear un modelo secuencial\n",
                "model = Sequential([\n",
                "    # Primera capa convolucional y de pooling\n",
                "    Conv2D(32, (3, 3), activation='relu', input_shape=(200, 200, 3)),\n",
                "    MaxPooling2D(2, 2),\n",
                "\n",
                "    # Segunda capa convolucional y de pooling\n",
                "    Conv2D(64, (3, 3), activation='relu'),\n",
                "    MaxPooling2D(2, 2),\n",
                "\n",
                "    # Tercera capa convolucional y de pooling\n",
                "    Conv2D(128, (3, 3), activation='relu'),\n",
                "    MaxPooling2D(2, 2),\n",
                "\n",
                "    # Aplanar las capas convolucionales\n",
                "    Flatten(),\n",
                "\n",
                "    # Capas densas (fully connected)\n",
                "    Dense(512, activation='relu'),\n",
                "    Dropout(0.5), # Capa de regularización para evitar el sobreajuste\n",
                "    Dense(1, activation='sigmoid') # Capa de salida para clasificación binaria\n",
                "])\n",
                "\n",
                "# Compilar el modelo\n",
                "model.compile(\n",
                "    optimizer='adam',\n",
                "    loss='binary_crossentropy',\n",
                "    metrics=['accuracy']\n",
                ")\n",
                "\n",
                "# Mostrar un resumen de la arquitectura del modelo\n",
                "model.summary()"
            ]
        },
        {
            "cell_type": "code",
            "execution_count": 6,
            "metadata": {},
            "outputs": [
                {
                    "name": "stderr",
                    "output_type": "stream",
                    "text": [
                        "/Users/bereniceramos/Documents/Personal/4Geeks/Deep Learning/deep_learning_project_BBRH/mi_entorno/lib/python3.11/site-packages/keras/src/trainers/data_adapters/py_dataset_adapter.py:121: UserWarning: Your `PyDataset` class should call `super().__init__(**kwargs)` in its constructor. `**kwargs` can include `workers`, `use_multiprocessing`, `max_queue_size`. Do not pass these arguments to `fit()`, as they will be ignored.\n",
                        "  self._warn_if_super_not_called()\n"
                    ]
                },
                {
                    "name": "stdout",
                    "output_type": "stream",
                    "text": [
                        "Epoch 1/15\n",
                        "\u001b[1m625/625\u001b[0m \u001b[32m━━━━━━━━━━━━━━━━━━━━\u001b[0m\u001b[37m\u001b[0m \u001b[1m348s\u001b[0m 555ms/step - accuracy: 0.5592 - loss: 0.6837 - val_accuracy: 0.5639 - val_loss: 0.6802\n",
                        "Epoch 2/15\n",
                        "\u001b[1m625/625\u001b[0m \u001b[32m━━━━━━━━━━━━━━━━━━━━\u001b[0m\u001b[37m\u001b[0m \u001b[1m336s\u001b[0m 537ms/step - accuracy: 0.5810 - loss: 0.6775 - val_accuracy: 0.6068 - val_loss: 0.6452\n",
                        "Epoch 3/15\n",
                        "\u001b[1m625/625\u001b[0m \u001b[32m━━━━━━━━━━━━━━━━━━━━\u001b[0m\u001b[37m\u001b[0m \u001b[1m325s\u001b[0m 520ms/step - accuracy: 0.6281 - loss: 0.6409 - val_accuracy: 0.6785 - val_loss: 0.6045\n",
                        "Epoch 4/15\n",
                        "\u001b[1m625/625\u001b[0m \u001b[32m━━━━━━━━━━━━━━━━━━━━\u001b[0m\u001b[37m\u001b[0m \u001b[1m319s\u001b[0m 510ms/step - accuracy: 0.6747 - loss: 0.6027 - val_accuracy: 0.7338 - val_loss: 0.5408\n",
                        "Epoch 5/15\n",
                        "\u001b[1m625/625\u001b[0m \u001b[32m━━━━━━━━━━━━━━━━━━━━\u001b[0m\u001b[37m\u001b[0m \u001b[1m315s\u001b[0m 504ms/step - accuracy: 0.7018 - loss: 0.5700 - val_accuracy: 0.7129 - val_loss: 0.6153\n",
                        "Epoch 6/15\n",
                        "\u001b[1m625/625\u001b[0m \u001b[32m━━━━━━━━━━━━━━━━━━━━\u001b[0m\u001b[37m\u001b[0m \u001b[1m341s\u001b[0m 545ms/step - accuracy: 0.7325 - loss: 0.5391 - val_accuracy: 0.7935 - val_loss: 0.4666\n",
                        "Epoch 7/15\n",
                        "\u001b[1m625/625\u001b[0m \u001b[32m━━━━━━━━━━━━━━━━━━━━\u001b[0m\u001b[37m\u001b[0m \u001b[1m329s\u001b[0m 526ms/step - accuracy: 0.7472 - loss: 0.5163 - val_accuracy: 0.8041 - val_loss: 0.4322\n",
                        "Epoch 8/15\n",
                        "\u001b[1m625/625\u001b[0m \u001b[32m━━━━━━━━━━━━━━━━━━━━\u001b[0m\u001b[37m\u001b[0m \u001b[1m335s\u001b[0m 536ms/step - accuracy: 0.7621 - loss: 0.4940 - val_accuracy: 0.8163 - val_loss: 0.4155\n",
                        "Epoch 9/15\n",
                        "\u001b[1m625/625\u001b[0m \u001b[32m━━━━━━━━━━━━━━━━━━━━\u001b[0m\u001b[37m\u001b[0m \u001b[1m329s\u001b[0m 526ms/step - accuracy: 0.7756 - loss: 0.4739 - val_accuracy: 0.8135 - val_loss: 0.4192\n",
                        "Epoch 10/15\n",
                        "\u001b[1m625/625\u001b[0m \u001b[32m━━━━━━━━━━━━━━━━━━━━\u001b[0m\u001b[37m\u001b[0m \u001b[1m319s\u001b[0m 510ms/step - accuracy: 0.7839 - loss: 0.4607 - val_accuracy: 0.8211 - val_loss: 0.4031\n",
                        "Epoch 11/15\n",
                        "\u001b[1m625/625\u001b[0m \u001b[32m━━━━━━━━━━━━━━━━━━━━\u001b[0m\u001b[37m\u001b[0m \u001b[1m331s\u001b[0m 530ms/step - accuracy: 0.7915 - loss: 0.4520 - val_accuracy: 0.8033 - val_loss: 0.4269\n",
                        "Epoch 12/15\n",
                        "\u001b[1m625/625\u001b[0m \u001b[32m━━━━━━━━━━━━━━━━━━━━\u001b[0m\u001b[37m\u001b[0m \u001b[1m333s\u001b[0m 532ms/step - accuracy: 0.8071 - loss: 0.4249 - val_accuracy: 0.8223 - val_loss: 0.3836\n",
                        "Epoch 13/15\n",
                        "\u001b[1m625/625\u001b[0m \u001b[32m━━━━━━━━━━━━━━━━━━━━\u001b[0m\u001b[37m\u001b[0m \u001b[1m322s\u001b[0m 515ms/step - accuracy: 0.8104 - loss: 0.4185 - val_accuracy: 0.8349 - val_loss: 0.3833\n",
                        "Epoch 14/15\n",
                        "\u001b[1m625/625\u001b[0m \u001b[32m━━━━━━━━━━━━━━━━━━━━\u001b[0m\u001b[37m\u001b[0m \u001b[1m317s\u001b[0m 507ms/step - accuracy: 0.8159 - loss: 0.4058 - val_accuracy: 0.8363 - val_loss: 0.3852\n",
                        "Epoch 15/15\n",
                        "\u001b[1m625/625\u001b[0m \u001b[32m━━━━━━━━━━━━━━━━━━━━\u001b[0m\u001b[37m\u001b[0m \u001b[1m324s\u001b[0m 518ms/step - accuracy: 0.8249 - loss: 0.3958 - val_accuracy: 0.8584 - val_loss: 0.3385\n"
                    ]
                }
            ],
            "source": [
                "# Entrenar el modelo\n",
                "# 'steps_per_epoch' y 'validation_steps' se calculan para asegurar que se procesen\n",
                "# todas las imágenes en cada epoch.\n",
                "history = model.fit(\n",
                "    train_generator,\n",
                "    steps_per_epoch=train_generator.samples // train_generator.batch_size,\n",
                "    epochs=15, # Puedes ajustar el número de epochs\n",
                "    validation_data=validation_generator,\n",
                "    validation_steps=validation_generator.samples // validation_generator.batch_size\n",
                ")"
            ]
        },
        {
            "cell_type": "code",
            "execution_count": 7,
            "metadata": {},
            "outputs": [
                {
                    "data": {
                        "image/png": "[encoded data removed]",
                        "text/plain": [
                            "<Figure size 1200x400 with 2 Axes>"
                        ]
                    },
                    "metadata": {},
                    "output_type": "display_data"
                }
            ],
            "source": [
                "import matplotlib.pyplot as plt\n",
                "\n",
                "# Obtener los datos del historial de entrenamiento\n",
                "acc = history.history['accuracy']\n",
                "val_acc = history.history['val_accuracy']\n",
                "loss = history.history['loss']\n",
                "val_loss = history.history['val_loss']\n",
                "\n",
                "epochs = range(len(acc))\n",
                "\n",
                "plt.figure(figsize=(12, 4))\n",
                "plt.subplot(1, 2, 1)\n",
                "plt.plot(epochs, acc, 'bo', label='Precisión de entrenamiento')\n",
                "plt.plot(epochs, val_acc, 'b', label='Precisión de validación')\n",
                "plt.title('Precisión de entrenamiento y validación')\n",
                "plt.legend()\n",
                "\n",
                "plt.subplot(1, 2, 2)\n",
                "plt.plot(epochs, loss, 'ro', label='Pérdida de entrenamiento')\n",
                "plt.plot(epochs, val_loss, 'r', label='Pérdida de validación')\n",
                "plt.title('Pérdida de entrenamiento y validación')\n",
                "plt.legend()\n",
                "\n",
                "plt.show()"
            ]
        }
    ],
    "metadata": {
        "kernelspec": {
            "display_name": "mi_entorno",
            "language": "python",
            "name": "python3"
        },
        "language_info": {
            "codemirror_mode": {
                "name": "ipython",
                "version": 3
            },
            "file_extension": ".py",
            "mimetype": "text/x-python",
            "name": "python",
            "nbconvert_exporter": "python",
            "pygments_lexer": "ipython3",
            "version": "3.11.13"
        },
        "orig_nbformat": 4
    },
    "nbformat": 4,
    "nbformat_minor": 2
}
